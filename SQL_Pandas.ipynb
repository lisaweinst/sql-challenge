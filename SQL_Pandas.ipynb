{
 "cells": [
  {
   "cell_type": "markdown",
   "metadata": {},
   "source": [
    "## Analysis"
   ]
  },
  {
   "cell_type": "markdown",
   "metadata": {},
   "source": [
    "The mean salary is $50,000\n",
    "\n",
    "Senior Staff is the highest paid title. "
   ]
  },
  {
   "cell_type": "code",
   "execution_count": null,
   "metadata": {},
   "outputs": [],
   "source": [
    "import pandas as pd\n",
    "\n",
    "# SQL Alchemy\n",
    "from sqlalchemy import create_engine\n",
    "#from config import Password\n",
    "engine = create_engine(f'postgresql://{username}:{password}/@localhost:5432/{db_name}')\n",
    "connection = engine.connect()\n",
    "\n",
    "# MatPlotLib/NumPy/SciPy\n",
    "%matplotlib inline\n",
    "from matplotlib import pyplot as plt\n",
    "import numpy as np\n",
    "import scipy.stats as stats"
   ]
  },
  {
   "cell_type": "code",
   "execution_count": 2,
   "metadata": {},
   "outputs": [],
   "source": [
    "#looking into the sql tables\n",
    "\n",
    "SELECT ISNULL(myColumn, 0 ) FROM myTable\n",
    "\n",
    "employees_data = pd.read_sql(\"SELECT * FROM Employees\", connection)\n",
    "salary_data = pd.read_sql(\"SELECT * FROM Salaries\", connection)\n",
    "title_data = pd.read_sql(\"SELECT * FROM Titles\", connection)"
   ]
  },
  {
   "cell_type": "code",
   "execution_count": 20,
   "metadata": {},
   "outputs": [
    {
     "data": {
      "text/plain": [
       "False"
      ]
     },
     "execution_count": 20,
     "metadata": {},
     "output_type": "execute_result"
    }
   ],
   "source": [
    "salary_data\n",
    "#no null values in the salary data\n",
    "employees_data.isnull().values.any()\n",
    "#salary_data[\"salary\"] = salary_data[\"salary\"].fillna(0)"
   ]
  },
  {
   "cell_type": "code",
   "execution_count": 4,
   "metadata": {},
   "outputs": [
    {
     "data": {
      "text/html": [
       "<div>\n",
       "<style scoped>\n",
       "    .dataframe tbody tr th:only-of-type {\n",
       "        vertical-align: middle;\n",
       "    }\n",
       "\n",
       "    .dataframe tbody tr th {\n",
       "        vertical-align: top;\n",
       "    }\n",
       "\n",
       "    .dataframe thead th {\n",
       "        text-align: right;\n",
       "    }\n",
       "</style>\n",
       "<table border=\"1\" class=\"dataframe\">\n",
       "  <thead>\n",
       "    <tr style=\"text-align: right;\">\n",
       "      <th></th>\n",
       "      <th>title_id</th>\n",
       "      <th>title</th>\n",
       "    </tr>\n",
       "  </thead>\n",
       "  <tbody>\n",
       "    <tr>\n",
       "      <th>0</th>\n",
       "      <td>s0001</td>\n",
       "      <td>Staff</td>\n",
       "    </tr>\n",
       "    <tr>\n",
       "      <th>1</th>\n",
       "      <td>s0002</td>\n",
       "      <td>Senior Staff</td>\n",
       "    </tr>\n",
       "    <tr>\n",
       "      <th>2</th>\n",
       "      <td>e0001</td>\n",
       "      <td>Assistant Engineer</td>\n",
       "    </tr>\n",
       "    <tr>\n",
       "      <th>3</th>\n",
       "      <td>e0002</td>\n",
       "      <td>Engineer</td>\n",
       "    </tr>\n",
       "    <tr>\n",
       "      <th>4</th>\n",
       "      <td>e0003</td>\n",
       "      <td>Senior Engineer</td>\n",
       "    </tr>\n",
       "    <tr>\n",
       "      <th>5</th>\n",
       "      <td>e0004</td>\n",
       "      <td>Technique Leader</td>\n",
       "    </tr>\n",
       "    <tr>\n",
       "      <th>6</th>\n",
       "      <td>m0001</td>\n",
       "      <td>Manager</td>\n",
       "    </tr>\n",
       "  </tbody>\n",
       "</table>\n",
       "</div>"
      ],
      "text/plain": [
       "  title_id               title\n",
       "0    s0001               Staff\n",
       "1    s0002        Senior Staff\n",
       "2    e0001  Assistant Engineer\n",
       "3    e0002            Engineer\n",
       "4    e0003     Senior Engineer\n",
       "5    e0004    Technique Leader\n",
       "6    m0001             Manager"
      ]
     },
     "execution_count": 4,
     "metadata": {},
     "output_type": "execute_result"
    }
   ],
   "source": [
    "title_data"
   ]
  },
  {
   "cell_type": "code",
   "execution_count": 18,
   "metadata": {},
   "outputs": [
    {
     "data": {
      "text/plain": [
       "False"
      ]
     },
     "execution_count": 18,
     "metadata": {},
     "output_type": "execute_result"
    }
   ],
   "source": [
    "employees_data\n",
    "#no null values in employees data\n",
    "employees_data.isnull().values.any()"
   ]
  },
  {
   "cell_type": "code",
   "execution_count": 6,
   "metadata": {},
   "outputs": [
    {
     "data": {
      "image/png": "[encoded data removed]",
      "text/plain": [
       "<Figure size 432x288 with 1 Axes>"
      ]
     },
     "metadata": {
      "needs_background": "light"
     },
     "output_type": "display_data"
    }
   ],
   "source": [
    "plt.hist(salary_data['salary'], label=\"Salary\", color='green')\n",
    "plt.axvline(salary_data['salary'].mean(), color='b', linestyle='dashed', linewidth=2, label=\"Salary Mean\")\n",
    "plt.xlabel(\"Salary\")\n",
    "plt.ylabel(\"Number of Employees\")\n",
    "plt.legend() \n",
    "plt.title(\"Common Salary Ranges\")\n",
    "plt.savefig(\"Common Salary Ranges.png\")"
   ]
  },
  {
   "cell_type": "code",
   "execution_count": 8,
   "metadata": {},
   "outputs": [
    {
     "data": {
      "image/png": "[encoded data removed]",
      "text/plain": [
       "<Figure size 432x288 with 1 Axes>"
      ]
     },
     "metadata": {
      "needs_background": "light"
     },
     "output_type": "display_data"
    }
   ],
   "source": [
    "query1 = pd.read_sql(\"SELECT * FROM Salaries INNER JOIN Employees ON Salaries.emp_no = Employees.emp_no INNER JOIN Titles ON Employees.emp_title_id = Titles.title_id\", connection)\n",
    "\n",
    "avg_salaries_by_title = query1.groupby([\"title\"]).mean()[\"salary\"]\n",
    "\n",
    "# Plot the Barchart\n",
    "#making a list of the different titles to use and the tick marks on the x-axis\n",
    "title_list = avg_salaries_by_title.index\n",
    "avg_salary_for_title = avg_salaries_by_title.values\n",
    "\n",
    "x_axis = np.arange(len(title_list))\n",
    "tick_locations = [value for value in x_axis]\n",
    "#rotation 90 used to separate the title names on the graph since they overlapped. \n",
    "plt.xticks(tick_locations, title_list, rotation=90)\n",
    "plt.title(\"Average Salary By Title\")\n",
    "plt.xlabel(\"Title\")\n",
    "plt.ylabel(\"Average Salary ($)\")\n",
    "plt.grid(axis=\"y\")\n",
    "chart = plt.bar(x_axis, avg_salary_for_title, color=\"g\", alpha=0.5, align=\"center\")\n",
    "#go through each title and calculate the average salary for each\n",
    "for i in chart:\n",
    "    yvalue = i.get_height()\n",
    "    plt.text(i.get_x(), yvalue + 500, \"${:,.2f}K\".format(yvalue/1000))\n",
    "    \n",
    "plt.show()\n"
   ]
  },
  {
   "cell_type": "code",
   "execution_count": null,
   "metadata": {},
   "outputs": [],
   "source": []
  }
 ],
 "metadata": {
  "kernelspec": {
   "display_name": "Python 3",
   "language": "python",
   "name": "python3"
  },
  "language_info": {
   "codemirror_mode": {
    "name": "ipython",
    "version": 3
   },
   "file_extension": ".py",
   "mimetype": "text/x-python",
   "name": "python",
   "nbconvert_exporter": "python",
   "pygments_lexer": "ipython3",
   "version": "3.7.6"
  }
 },
 "nbformat": 4,
 "nbformat_minor": 4
}
